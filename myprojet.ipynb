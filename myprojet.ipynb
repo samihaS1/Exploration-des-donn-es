{
 "cells": [
  {
   "cell_type": "code",
   "execution_count": 1,
   "id": "b2963ba1-bfdd-4de0-b40f-b934632b2a5a",
   "metadata": {},
   "outputs": [
    {
     "name": "stdout",
     "output_type": "stream",
     "text": [
      "Requirement already satisfied: pandas in c:\\users\\hp\\appdata\\local\\programs\\python\\python311\\lib\\site-packages (2.1.2)\n",
      "Requirement already satisfied: numpy<2,>=1.23.2 in c:\\users\\hp\\appdata\\local\\programs\\python\\python311\\lib\\site-packages (from pandas) (1.24.3)\n",
      "Requirement already satisfied: python-dateutil>=2.8.2 in c:\\users\\hp\\appdata\\local\\programs\\python\\python311\\lib\\site-packages (from pandas) (2.8.2)\n",
      "Requirement already satisfied: pytz>=2020.1 in c:\\users\\hp\\appdata\\local\\programs\\python\\python311\\lib\\site-packages (from pandas) (2023.3.post1)\n",
      "Requirement already satisfied: tzdata>=2022.1 in c:\\users\\hp\\appdata\\local\\programs\\python\\python311\\lib\\site-packages (from pandas) (2023.3)\n",
      "Requirement already satisfied: six>=1.5 in c:\\users\\hp\\appdata\\local\\programs\\python\\python311\\lib\\site-packages (from python-dateutil>=2.8.2->pandas) (1.16.0)\n"
     ]
    },
    {
     "name": "stderr",
     "output_type": "stream",
     "text": [
      "\n",
      "[notice] A new release of pip is available: 23.3.2 -> 24.2\n",
      "[notice] To update, run: python.exe -m pip install --upgrade pip\n"
     ]
    },
    {
     "name": "stdout",
     "output_type": "stream",
     "text": [
      "Requirement already satisfied: matplotlib in c:\\users\\hp\\appdata\\local\\programs\\python\\python311\\lib\\site-packages (3.7.2)\n",
      "Requirement already satisfied: contourpy>=1.0.1 in c:\\users\\hp\\appdata\\local\\programs\\python\\python311\\lib\\site-packages (from matplotlib) (1.1.0)\n",
      "Requirement already satisfied: cycler>=0.10 in c:\\users\\hp\\appdata\\local\\programs\\python\\python311\\lib\\site-packages (from matplotlib) (0.11.0)\n",
      "Requirement already satisfied: fonttools>=4.22.0 in c:\\users\\hp\\appdata\\local\\programs\\python\\python311\\lib\\site-packages (from matplotlib) (4.42.1)\n",
      "Requirement already satisfied: kiwisolver>=1.0.1 in c:\\users\\hp\\appdata\\local\\programs\\python\\python311\\lib\\site-packages (from matplotlib) (1.4.5)\n",
      "Requirement already satisfied: numpy>=1.20 in c:\\users\\hp\\appdata\\local\\programs\\python\\python311\\lib\\site-packages (from matplotlib) (1.24.3)\n",
      "Requirement already satisfied: packaging>=20.0 in c:\\users\\hp\\appdata\\local\\programs\\python\\python311\\lib\\site-packages (from matplotlib) (23.1)\n",
      "Requirement already satisfied: pillow>=6.2.0 in c:\\users\\hp\\appdata\\local\\programs\\python\\python311\\lib\\site-packages (from matplotlib) (10.0.0)\n",
      "Requirement already satisfied: pyparsing<3.1,>=2.3.1 in c:\\users\\hp\\appdata\\local\\programs\\python\\python311\\lib\\site-packages (from matplotlib) (3.0.9)\n",
      "Requirement already satisfied: python-dateutil>=2.7 in c:\\users\\hp\\appdata\\local\\programs\\python\\python311\\lib\\site-packages (from matplotlib) (2.8.2)\n",
      "Requirement already satisfied: six>=1.5 in c:\\users\\hp\\appdata\\local\\programs\\python\\python311\\lib\\site-packages (from python-dateutil>=2.7->matplotlib) (1.16.0)\n"
     ]
    },
    {
     "name": "stderr",
     "output_type": "stream",
     "text": [
      "\n",
      "[notice] A new release of pip is available: 23.3.2 -> 24.2\n",
      "[notice] To update, run: python.exe -m pip install --upgrade pip\n"
     ]
    }
   ],
   "source": [
    "#Istaller les bibliotheques \n",
    "#Pandas\n",
    "!pip install pandas \n",
    "#Matplotlib\n",
    "!pip install matplotlib\n",
    "\n"
   ]
  },
  {
   "cell_type": "code",
   "execution_count": 9,
   "id": "2024a511-5806-45cd-a4ce-75359dd9ef3d",
   "metadata": {},
   "outputs": [],
   "source": [
    "import pandas as pd\n",
    "\n",
    "import matplotlib.pyplot as plt\n",
    "\n",
    "%matplotlib inline\n"
   ]
  },
  {
   "cell_type": "code",
   "execution_count": 17,
   "id": "d57f5615-bba8-4649-acec-6321226d43f4",
   "metadata": {},
   "outputs": [],
   "source": [
    "# Load the dataset \n",
    "\n",
    "data = pd.read_csv('data-sell4all.csv')\n",
    "\n"
   ]
  },
  {
   "cell_type": "code",
   "execution_count": 23,
   "id": "251b46dd-8ead-460b-b56e-5c60d49c8f79",
   "metadata": {},
   "outputs": [
    {
     "data": {
      "text/plain": [
       "Index(['Pays', 'Age', 'Genre', 'Dépenses des clients'], dtype='object')"
      ]
     },
     "execution_count": 23,
     "metadata": {},
     "output_type": "execute_result"
    }
   ],
   "source": [
    "# Clean column names\n",
    "data.columns = data.columns.str.strip()\n",
    "data.columns"
   ]
  },
  {
   "cell_type": "code",
   "execution_count": 24,
   "id": "8ef52507-1347-432c-bf05-0c2e817b472a",
   "metadata": {},
   "outputs": [],
   "source": [
    "# Convert Age and Dépenses des clientse columns to numeric, coercing errors\n",
    "data['Age'] = pd.to_numeric(data['Age'], errors='coerce')\n",
    "data['Dépenses des clients'] = pd.to_numeric(data['Dépenses des clients'], errors='coerce')\n"
   ]
  },
  {
   "cell_type": "code",
   "execution_count": 25,
   "id": "b912eaf3-d984-4382-9263-58acf1f07ab5",
   "metadata": {},
   "outputs": [],
   "source": [
    "# Display the first 5 rows\n",
    "first_5_rows = data.head()\n"
   ]
  },
  {
   "cell_type": "code",
   "execution_count": 26,
   "id": "8cf69d33-be08-4bca-a242-66106bd6e7d4",
   "metadata": {},
   "outputs": [
    {
     "data": {
      "text/html": [
       "<div>\n",
       "<style scoped>\n",
       "    .dataframe tbody tr th:only-of-type {\n",
       "        vertical-align: middle;\n",
       "    }\n",
       "\n",
       "    .dataframe tbody tr th {\n",
       "        vertical-align: top;\n",
       "    }\n",
       "\n",
       "    .dataframe thead th {\n",
       "        text-align: right;\n",
       "    }\n",
       "</style>\n",
       "<table border=\"1\" class=\"dataframe\">\n",
       "  <thead>\n",
       "    <tr style=\"text-align: right;\">\n",
       "      <th></th>\n",
       "      <th>Pays</th>\n",
       "      <th>Age</th>\n",
       "      <th>Genre</th>\n",
       "      <th>Dépenses des clients</th>\n",
       "    </tr>\n",
       "  </thead>\n",
       "  <tbody>\n",
       "    <tr>\n",
       "      <th>0</th>\n",
       "      <td>France</td>\n",
       "      <td>32.0</td>\n",
       "      <td>Female</td>\n",
       "      <td>150.50</td>\n",
       "    </tr>\n",
       "    <tr>\n",
       "      <th>1</th>\n",
       "      <td>Germany</td>\n",
       "      <td>45.0</td>\n",
       "      <td>Male</td>\n",
       "      <td>200.75</td>\n",
       "    </tr>\n",
       "    <tr>\n",
       "      <th>2</th>\n",
       "      <td>Spain</td>\n",
       "      <td>28.0</td>\n",
       "      <td>Female</td>\n",
       "      <td>75.25</td>\n",
       "    </tr>\n",
       "    <tr>\n",
       "      <th>3</th>\n",
       "      <td>Italy</td>\n",
       "      <td>39.0</td>\n",
       "      <td>Male</td>\n",
       "      <td>180.00</td>\n",
       "    </tr>\n",
       "    <tr>\n",
       "      <th>4</th>\n",
       "      <td>UK</td>\n",
       "      <td>52.0</td>\n",
       "      <td>Female</td>\n",
       "      <td>250.30</td>\n",
       "    </tr>\n",
       "  </tbody>\n",
       "</table>\n",
       "</div>"
      ],
      "text/plain": [
       "      Pays   Age   Genre  Dépenses des clients\n",
       "0   France  32.0  Female                150.50\n",
       "1  Germany  45.0    Male                200.75\n",
       "2    Spain  28.0  Female                 75.25\n",
       "3    Italy  39.0    Male                180.00\n",
       "4       UK  52.0  Female                250.30"
      ]
     },
     "execution_count": 26,
     "metadata": {},
     "output_type": "execute_result"
    }
   ],
   "source": [
    "first_5_rows\n"
   ]
  },
  {
   "cell_type": "code",
   "execution_count": 27,
   "id": "af17e788-bb47-490b-8919-553bc59e7c3b",
   "metadata": {},
   "outputs": [
    {
     "data": {
      "text/plain": [
       "<bound method DataFrame.info of                  Pays   Age        Genre  Dépenses des clients\n",
       "0              France  32.0       Female                150.50\n",
       "1             Germany  45.0         Male                200.75\n",
       "2               Spain  28.0       Female                 75.25\n",
       "3               Italy  39.0         Male                180.00\n",
       "4                  UK  52.0       Female                250.30\n",
       "..                ...   ...          ...                   ...\n",
       "60      Digital Realm   NaN           AI            1010101.01\n",
       "61         Multiverse   NaN   Non-Binary                   NaN\n",
       "62              Error   NaN          404                   NaN\n",
       "63      Greece, Italy   NaN  Male;Female                   NaN\n",
       "64   United  Kingdom    NaN        Other                   NaN\n",
       "\n",
       "[65 rows x 4 columns]>"
      ]
     },
     "execution_count": 27,
     "metadata": {},
     "output_type": "execute_result"
    }
   ],
   "source": [
    "data.info"
   ]
  },
  {
   "cell_type": "code",
   "execution_count": 33,
   "id": "e4660a11-1241-44e6-abdc-4e5c6ce10f5a",
   "metadata": {},
   "outputs": [],
   "source": [
    "# Calculate median and mean for Age \n",
    "median_age = data['Age'].median()\n",
    "mean_age = data['Age'].mean()\n",
    "median_Depenses = data['Dépenses des clients'].median()\n",
    "mean_Depenses = data['Dépenses des clients'].mean()"
   ]
  },
  {
   "cell_type": "code",
   "execution_count": 34,
   "id": "5dd224c1-f693-442b-a42c-ffaf840b0e6d",
   "metadata": {},
   "outputs": [
    {
     "data": {
      "text/plain": [
       "36.0"
      ]
     },
     "execution_count": 34,
     "metadata": {},
     "output_type": "execute_result"
    }
   ],
   "source": [
    "#the median age \n",
    "median_age"
   ]
  },
  {
   "cell_type": "code",
   "execution_count": 35,
   "id": "403995fa-d04f-4719-a2ac-2ba3ef993d5f",
   "metadata": {},
   "outputs": [
    {
     "data": {
      "text/plain": [
       "52.42372881355932"
      ]
     },
     "execution_count": 35,
     "metadata": {},
     "output_type": "execute_result"
    }
   ],
   "source": [
    "#the mean_age \n",
    "mean_age"
   ]
  },
  {
   "cell_type": "code",
   "execution_count": 36,
   "id": "8594770f-ba48-41e2-8a33-024e47c8380c",
   "metadata": {},
   "outputs": [
    {
     "data": {
      "text/plain": [
       "167.5"
      ]
     },
     "execution_count": 36,
     "metadata": {},
     "output_type": "execute_result"
    }
   ],
   "source": [
    "#the median depenses \n",
    "median_Depenses \n"
   ]
  },
  {
   "cell_type": "code",
   "execution_count": 37,
   "id": "6fd5a6b5-fc91-463c-81ff-8ae8b11aae1b",
   "metadata": {},
   "outputs": [
    {
     "data": {
      "text/plain": [
       "34811.72948275862"
      ]
     },
     "execution_count": 37,
     "metadata": {},
     "output_type": "execute_result"
    }
   ],
   "source": [
    "#mean depenses \n",
    "mean_Depenses \n"
   ]
  },
  {
   "cell_type": "code",
   "execution_count": 38,
   "id": "fe5452bd-edd2-4af3-afd0-a59bce5a2b0c",
   "metadata": {},
   "outputs": [
    {
     "data": {
      "image/png": "[encoded data removed]",
      "text/plain": [
       "<Figure size 640x480 with 1 Axes>"
      ]
     },
     "metadata": {},
     "output_type": "display_data"
    }
   ],
   "source": [
    "# Data Visualization\n",
    "expenditure_by_country = data.groupby('Pays')['Dépenses des clients'].sum()\n",
    "expenditure_by_country.plot(kind='bar')\n",
    "plt.title('Dépenses des clients par pays ')\n",
    "plt.xlabel('pays ')\n",
    "plt.ylabel('Total Dépenses des clients')\n",
    "plt.show()"
   ]
  },
  {
   "cell_type": "code",
   "execution_count": 40,
   "id": "de6f16f9-7556-4f80-971b-5d48f37ca548",
   "metadata": {},
   "outputs": [],
   "source": [
    "# Data Cleaning\n",
    "cleaned_data = data[(data['Dépenses des clients'] >= 10) & (data['Dépenses des clients'].notnull())]\n",
    "cleaned_data = cleaned_data.drop_duplicates()"
   ]
  },
  {
   "cell_type": "code",
   "execution_count": 41,
   "id": "0a9c8bee-31c9-4757-80ee-bc0a08992128",
   "metadata": {},
   "outputs": [],
   "source": [
    "# Save cleaned data to a new CSV file\n",
    "cleaned_data = cleaned_data[['Pays', 'Age', 'Genre', 'Dépenses des clients']]\n",
    "cleaned_data.to_csv('cleaned_data_sell4all.csv', index=False)"
   ]
  },
  {
   "cell_type": "code",
   "execution_count": null,
   "id": "445446da-9676-4db0-873c-c076136bdb1d",
   "metadata": {},
   "outputs": [],
   "source": []
  }
 ],
 "metadata": {
  "kernelspec": {
   "display_name": "Python 3 (ipykernel)",
   "language": "python",
   "name": "python3"
  },
  "language_info": {
   "codemirror_mode": {
    "name": "ipython",
    "version": 3
   },
   "file_extension": ".py",
   "mimetype": "text/x-python",
   "name": "python",
   "nbconvert_exporter": "python",
   "pygments_lexer": "ipython3",
   "version": "3.11.5"
  }
 },
 "nbformat": 4,
 "nbformat_minor": 5
}
